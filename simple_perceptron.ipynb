{
 "cells": [
  {
   "cell_type": "code",
   "execution_count": 1,
   "metadata": {},
   "outputs": [],
   "source": [
    "import numpy as np\n",
    "import matplotlib.pyplot as plt"
   ]
  },
  {
   "cell_type": "code",
   "execution_count": 2,
   "metadata": {},
   "outputs": [],
   "source": [
    "def f(y):\n",
    "    if y >= 0:\n",
    "        return 1\n",
    "    else:\n",
    "        return -1"
   ]
  },
  {
   "cell_type": "code",
   "execution_count": 3,
   "metadata": {},
   "outputs": [
    {
     "name": "stdout",
     "output_type": "stream",
     "text": [
      "w=[-0.5  1.  -1. ]\n"
     ]
    },
    {
     "data": {
      "image/png": "[encoded data removed]",
      "text/plain": [
       "<Figure size 432x288 with 1 Axes>"
      ]
     },
     "metadata": {
      "needs_background": "light"
     },
     "output_type": "display_data"
    }
   ],
   "source": [
    "n = 10\n",
    "\n",
    "b = 1\n",
    "\n",
    "k = 0.5 # angle\n",
    "fb = [0+b, k+b]\n",
    "w1 = -k\n",
    "w2 = -w1 / k  # k = -w1 / w2 -> kw2 = -w1\n",
    "w3 = -b * w2\n",
    "w = np.array([w1, w2, w3])\n",
    "\n",
    "print(f\"w={w}\")\n",
    "\n",
    "x1 = np.random.random(n)\n",
    "x2 = x1 * k + [np.random.randint(10)/10 for _ in range(n)] + b # x2 = k * x1\n",
    "c1 = [x1, x2]\n",
    "\n",
    "x1 = np.random.random(n)\n",
    "x2 = x1 * k - [np.random.randint(10)/10  for _ in range(n)] + b - 0.01\n",
    "c2 = [x1, x2]\n",
    "\n",
    "plt.scatter(c1[0][:], c1[1][:], s=10, c='red')\n",
    "plt.scatter(c2[0][:], c2[1][:], s=10, c='blue')\n",
    "\n",
    "plt.plot(fb)\n",
    "plt.grid(True)\n",
    "plt.show()"
   ]
  },
  {
   "cell_type": "code",
   "execution_count": 26,
   "metadata": {},
   "outputs": [
    {
     "name": "stdout",
     "output_type": "stream",
     "text": [
      "x=[0.6634, 1.9317], y=0.60  -> C1\n",
      "x=[0.6058, 1.3029], y=0.00  -> C1\n",
      "x=[0.3834, 1.6917], y=0.50  -> C1\n",
      "x=[0.7429, 1.8715], y=0.50  -> C1\n",
      "x=[0.9897, 1.5949], y=0.10  -> C1\n",
      "x=[0.4106, 1.7053], y=0.50  -> C1\n",
      "x=[0.0069, 1.4035], y=0.40  -> C1\n",
      "x=[0.5341, 1.5670], y=0.30  -> C1\n",
      "x=[0.7541, 1.9770], y=0.60  -> C1\n",
      "x=[0.3995, 1.7997], y=0.60  -> C1\n",
      "x=[0.5127, 0.9464], y=-0.31 -> C2\n",
      "x=[0.8786, 1.0293], y=-0.41 -> C2\n",
      "x=[0.3076, 0.4438], y=-0.71 -> C2\n",
      "x=[0.3699, 0.9750], y=-0.21 -> C2\n",
      "x=[0.9992, 1.1896], y=-0.31 -> C2\n",
      "x=[0.5548, 1.1674], y=-0.11 -> C2\n",
      "x=[0.6470, 0.4135], y=-0.91 -> C2\n",
      "x=[0.3925, 0.5862], y=-0.61 -> C2\n",
      "x=[0.3952, 0.6876], y=-0.51 -> C2\n",
      "x=[0.7358, 0.7579], y=-0.61 -> C2\n"
     ]
    }
   ],
   "source": [
    "for c in (c1, c2):\n",
    "    for i in range(n):\n",
    "        x = np.array([c[0][i], c[1][i], 1])  # x1[i], x2[i], bias\n",
    "        y = np.dot(x, w)\n",
    "        xx =list(x[:2])\n",
    "        coord = f\"x=[{xx[0]:.4f}, {xx[1]:.4f}], y={y:.2f}\"\n",
    "        if f(y) == 1:  # check activation\n",
    "            print(f\"{coord}  -> C1\")\n",
    "        else:\n",
    "            print(f\"{coord} -> C2\")"
   ]
  }
 ],
 "metadata": {
  "kernelspec": {
   "display_name": "Python 3",
   "language": "python",
   "name": "python3"
  },
  "language_info": {
   "codemirror_mode": {
    "name": "ipython",
    "version": 3
   },
   "file_extension": ".py",
   "mimetype": "text/x-python",
   "name": "python",
   "nbconvert_exporter": "python",
   "pygments_lexer": "ipython3",
   "version": "3.7.0"
  }
 },
 "nbformat": 4,
 "nbformat_minor": 2
}
